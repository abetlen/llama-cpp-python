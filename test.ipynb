{
 "cells": [
  {
   "cell_type": "code",
   "execution_count": null,
   "metadata": {},
   "outputs": [],
   "source": [
    "json_schema = {\n",
    "    \"type\": \"object\",\n",
    "    \"properties\": {\n",
    "        \"term\": {\"type\": \"string\"},\n",
    "        \"item_price_to\": {\"type\": \"integer\"},\n",
    "        \"merchant_id\": {\"type\": \"string\", \"format\": \"uuid\"}\n",
    "    },\n",
    "    \"required\": [\"term\"]\n",
    "}\n",
    "\n",
    "grammar = LlamaGrammar.from_json_schema(json.dumps(json_schema), verbose=True)\n",
    "print(str(grammar))"
   ]
  },
  {
   "cell_type": "code",
   "execution_count": 47,
   "metadata": {},
   "outputs": [
    {
     "name": "stderr",
     "output_type": "stream",
     "text": [
      "from_string grammar:\n",
      "root ::= functions | [INST] \n",
      "functions ::= [TOOL_CALLS] [n] [a] [m] [e] [:] [t] [e] [s] [t] [e] [:] | [n] [a] [m] [e] [:] [t] [e] [s] [t] [e] [2] [:] \n",
      "\n"
     ]
    },
    {
     "data": {
      "text/plain": [
       "<llama_cpp.llama_grammar.LlamaGrammar at 0x71e8ea8cc2e0>"
      ]
     },
     "execution_count": 47,
     "metadata": {},
     "output_type": "execute_result"
    }
   ],
   "source": [
    "from llama_cpp.llama_grammar import LlamaGrammar\n",
    "tools = [\"teste\", \"teste2\"]\n",
    "function_names = \" | \".join(\n",
    "    [f'''\"name:{tool}\"''' for tool in tools]\n",
    ")\n",
    "\n",
    "initial_gbnf_tool_grammar = (\n",
    "    \"\"\"root   ::= functions | [INST]\\n\"\"\"\n",
    "    f\"\"\"functions ::= [TOOL_CALLS] {function_names}\\n\"\"\"\n",
    "    )\n",
    "\n",
    "LlamaGrammar.from_string(\n",
    "            initial_gbnf_tool_grammar)"
   ]
  },
  {
   "cell_type": "code",
   "execution_count": null,
   "metadata": {},
   "outputs": [],
   "source": []
  }
 ],
 "metadata": {
  "kernelspec": {
   "display_name": "Python 3",
   "language": "python",
   "name": "python3"
  },
  "language_info": {
   "name": "python",
   "version": "3.10.12"
  }
 },
 "nbformat": 4,
 "nbformat_minor": 2
}
